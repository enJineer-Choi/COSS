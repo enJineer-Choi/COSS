{
 "cells": [
  {
   "cell_type": "code",
   "execution_count": 2,
   "id": "538926f3-3a59-4e47-b5aa-0585bf0ef1b6",
   "metadata": {},
   "outputs": [
    {
     "name": "stdout",
     "output_type": "stream",
     "text": [
      "6\n"
     ]
    }
   ],
   "source": [
    "string=\"어서오세요 305호에\"\n",
    "index=string.find(\"305\")\n",
    "print(index)"
   ]
  },
  {
   "cell_type": "code",
   "execution_count": 3,
   "id": "af876a8a-45f9-4898-b41c-3d4e7b3a89f3",
   "metadata": {},
   "outputs": [
    {
     "name": "stdout",
     "output_type": "stream",
     "text": [
      "양파\n"
     ]
    }
   ],
   "source": [
    "mixed_list=['사과','당근',['오이','양파'],'배추']\n",
    "print(mixed_list[2][1])"
   ]
  },
  {
   "cell_type": "code",
   "execution_count": 4,
   "id": "d3967575-824e-4822-9744-0b0f4fb89bd7",
   "metadata": {},
   "outputs": [],
   "source": [
    "tu=1,2,3"
   ]
  },
  {
   "cell_type": "code",
   "execution_count": 5,
   "id": "c3137553-f95b-456a-b99d-7c06c4c61335",
   "metadata": {},
   "outputs": [
    {
     "data": {
      "text/plain": [
       "3"
      ]
     },
     "execution_count": 5,
     "metadata": {},
     "output_type": "execute_result"
    }
   ],
   "source": [
    "len(tu)"
   ]
  },
  {
   "cell_type": "code",
   "execution_count": 6,
   "id": "8512afdd-5f6f-425c-a824-66b3c683e0f0",
   "metadata": {},
   "outputs": [
    {
     "data": {
      "text/plain": [
       "2"
      ]
     },
     "execution_count": 6,
     "metadata": {},
     "output_type": "execute_result"
    }
   ],
   "source": [
    "tu[1]"
   ]
  },
  {
   "cell_type": "code",
   "execution_count": 7,
   "id": "2cd48562-f1c5-4673-9132-235319239375",
   "metadata": {},
   "outputs": [],
   "source": [
    "address={'엄복동':'서울시 강남구','이상혁':'서울시 강서구'}"
   ]
  },
  {
   "cell_type": "code",
   "execution_count": 10,
   "id": "d834634f-c3a3-4abd-89c0-efd8199dbb07",
   "metadata": {},
   "outputs": [
    {
     "data": {
      "text/plain": [
       "'서울시 강남구'"
      ]
     },
     "execution_count": 10,
     "metadata": {},
     "output_type": "execute_result"
    }
   ],
   "source": [
    "address.get('엄복동')"
   ]
  },
  {
   "cell_type": "code",
   "execution_count": 12,
   "id": "9ecdbcf0-f166-43ad-b24c-a05eb7f8bdb1",
   "metadata": {},
   "outputs": [
    {
     "data": {
      "text/plain": [
       "'서울시 강남구'"
      ]
     },
     "execution_count": 12,
     "metadata": {},
     "output_type": "execute_result"
    }
   ],
   "source": [
    "address['엄복동']"
   ]
  },
  {
   "cell_type": "code",
   "execution_count": 13,
   "id": "5a035a1d-278c-4376-937f-082a7546d968",
   "metadata": {},
   "outputs": [
    {
     "ename": "KeyError",
     "evalue": "0",
     "output_type": "error",
     "traceback": [
      "\u001b[0;31m---------------------------------------------------------------------------\u001b[0m",
      "\u001b[0;31mKeyError\u001b[0m                                  Traceback (most recent call last)",
      "Input \u001b[0;32mIn [13]\u001b[0m, in \u001b[0;36m<cell line: 1>\u001b[0;34m()\u001b[0m\n\u001b[0;32m----> 1\u001b[0m \u001b[43maddress\u001b[49m\u001b[43m[\u001b[49m\u001b[38;5;241;43m0\u001b[39;49m\u001b[43m]\u001b[49m\n",
      "\u001b[0;31mKeyError\u001b[0m: 0"
     ]
    }
   ],
   "source": [
    "address[0]"
   ]
  },
  {
   "cell_type": "code",
   "execution_count": 15,
   "id": "e30c3675-dd71-4cf0-87a2-bb515f502e0c",
   "metadata": {},
   "outputs": [],
   "source": [
    "t=set(tu)"
   ]
  },
  {
   "cell_type": "code",
   "execution_count": 16,
   "id": "e11d6724-0015-44d2-8563-158223d02f0b",
   "metadata": {},
   "outputs": [
    {
     "data": {
      "text/plain": [
       "set"
      ]
     },
     "execution_count": 16,
     "metadata": {},
     "output_type": "execute_result"
    }
   ],
   "source": [
    "type(t)"
   ]
  },
  {
   "cell_type": "code",
   "execution_count": 19,
   "id": "648f49ca-fcd9-4d63-9719-d5b0da03884a",
   "metadata": {},
   "outputs": [],
   "source": [
    "t.update('1','2','3')"
   ]
  },
  {
   "cell_type": "code",
   "execution_count": 20,
   "id": "84af834a-e61d-47a0-85ce-f584bb1229aa",
   "metadata": {},
   "outputs": [
    {
     "data": {
      "text/plain": [
       "{1, '1', 2, '2', 3, '3'}"
      ]
     },
     "execution_count": 20,
     "metadata": {},
     "output_type": "execute_result"
    }
   ],
   "source": [
    "t"
   ]
  },
  {
   "cell_type": "code",
   "execution_count": null,
   "id": "01e890c3-7a0d-4a60-8851-8dedf15c2926",
   "metadata": {},
   "outputs": [],
   "source": []
  }
 ],
 "metadata": {
  "kernelspec": {
   "display_name": "Python 3 (ipykernel)",
   "language": "python",
   "name": "python3"
  },
  "language_info": {
   "codemirror_mode": {
    "name": "ipython",
    "version": 3
   },
   "file_extension": ".py",
   "mimetype": "text/x-python",
   "name": "python",
   "nbconvert_exporter": "python",
   "pygments_lexer": "ipython3",
   "version": "3.9.7"
  }
 },
 "nbformat": 4,
 "nbformat_minor": 5
}
