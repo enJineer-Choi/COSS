{
 "cells": [
  {
   "cell_type": "markdown",
   "metadata": {
    "id": "EQY8OHj-plKa"
   },
   "source": [
    "## 1. 문자열\n",
    "\n",
    "다음 주소지에서 도시만 추출해 봅시다. \n",
    "```python\n",
    "address1 = '서울시 강남구 삼성로' \n",
    "address2 = '대전시 서구 둔산동' \n",
    "address3 = '경기도 김포시 사우중로'\n",
    "\n",
    "# 출력 예시\n",
    "'서울', '대전', '김포\"\n",
    "```\n"
   ]
  },
  {
   "cell_type": "code",
   "execution_count": 1,
   "metadata": {
    "id": "Yt1kkl5uplKd"
   },
   "outputs": [],
   "source": [
    "address1 = '서울시 강남구 삼성로' \n",
    "address2 = '대전시 서구 둔산동' \n",
    "address3 = '경기도 김포시 사우중로'"
   ]
  },
  {
   "cell_type": "code",
   "execution_count": 3,
   "metadata": {
    "colab": {
     "base_uri": "https://localhost:8080/"
    },
    "id": "GZi-7lV6plKe",
    "outputId": "32ec24ef-d2de-4395-b7ae-897b7cd25c80"
   },
   "outputs": [
    {
     "data": {
      "text/plain": [
       "('서울', '대전', '김포')"
      ]
     },
     "execution_count": 3,
     "metadata": {},
     "output_type": "execute_result"
    }
   ],
   "source": [
    "address1[0:2],address2[0:2],address3[4:6]"
   ]
  },
  {
   "cell_type": "markdown",
   "metadata": {
    "id": "TIrJcwOBplKf"
   },
   "source": [
    "## 2. 변수, 숫자\n",
    "\n",
    "직원 인적사항을 변수로 만들어 봅시다. \n",
    "\n",
    "다음 5가지 항목을 명시된 자료형에 유의하여 만들어 봅시다. \n",
    "```\n",
    "이름 : 문자열\n",
    "나이 : 숫자\n",
    "직무 : 문자열\n",
    "연락처 : 문자열\n",
    "결혼 여부 : 불린(boolean)\n",
    "``` "
   ]
  },
  {
   "cell_type": "code",
   "execution_count": null,
   "metadata": {
    "id": "ltzPmghbplKf"
   },
   "outputs": [],
   "source": []
  },
  {
   "cell_type": "code",
   "execution_count": null,
   "metadata": {
    "id": "4SIjcZJvplKf"
   },
   "outputs": [],
   "source": []
  },
  {
   "cell_type": "markdown",
   "metadata": {
    "id": "3nrf7-ubuZZc"
   },
   "source": [
    "## 3. 리스트, 딕셔너리, 집합 자료형\n",
    "\n",
    "다음은 \"파이썬 프로그래밍\" 책을 빌린 사람 목록입니다. 도서관 사서인 당신은 이름 순대로 중복 없이 리스트를 출력하고자 합니다. 반복문을 쓰지 않고 해결해 봅시다.  \n"
   ]
  },
  {
   "cell_type": "code",
   "execution_count": 1,
   "metadata": {
    "id": "lU4LFrgxct_l"
   },
   "outputs": [],
   "source": [
    "check_list = ['엄복동', '김무무', '하현우', '정아람', '김무무', '정아람', '최최종']"
   ]
  },
  {
   "cell_type": "markdown",
   "metadata": {
    "id": "NUCgh4T-HDBL"
   },
   "source": [
    "출력 예시\n",
    "```\n",
    "['김무무', '엄복동', '정아람', '최최종', '하현우']\n",
    "```"
   ]
  },
  {
   "cell_type": "code",
   "execution_count": 2,
   "metadata": {
    "id": "txOaCWFcplKg"
   },
   "outputs": [
    {
     "data": {
      "text/plain": [
       "['하현우', '엄복동', '최최종', '김무무', '정아람']"
      ]
     },
     "execution_count": 2,
     "metadata": {},
     "output_type": "execute_result"
    }
   ],
   "source": [
    "list(set(check_list))"
   ]
  },
  {
   "cell_type": "code",
   "execution_count": null,
   "metadata": {
    "id": "3VKvmFPmplKh"
   },
   "outputs": [],
   "source": []
  },
  {
   "cell_type": "markdown",
   "metadata": {
    "id": "RzSnxrTIplKh"
   },
   "source": [
    "## 4. split 함수를 이용해 아래와 같이 email 주소 내에 포함된 @ 기호를 기준으로 메일 주소의 앞 부분과 뒷 부분을 분리하는 코드를 작성해 주세요!\n",
    "\n",
    "\n",
    "email = \"todaycodes@mymail.com\"\n",
    "분리된 결과 출력 예시 : ['todaycode', 'mymail.com']"
   ]
  },
  {
   "cell_type": "code",
   "execution_count": 3,
   "metadata": {
    "id": "Icf4RpDMplKh"
   },
   "outputs": [],
   "source": [
    "email = \"todaycodes@mymail.com\"\n",
    "\n"
   ]
  },
  {
   "cell_type": "code",
   "execution_count": 4,
   "metadata": {},
   "outputs": [
    {
     "data": {
      "text/plain": [
       "['todaycodes', 'mymail.com']"
      ]
     },
     "execution_count": 4,
     "metadata": {},
     "output_type": "execute_result"
    }
   ],
   "source": [
    "email.split('@')"
   ]
  },
  {
   "cell_type": "markdown",
   "metadata": {
    "id": "t-dz_LemFDQ4"
   },
   "source": [
    "## 5. 딕셔너리, 문자열\n",
    "\n",
    "다음은 도서관이 분실한 책 목록입니다. 사서인 당신은 이번에 개발 관련 도서들만 새로 구입하고자 합니다. 얼마를 지출해야 할지 총합을 출력하세요.\n",
    "  - 문자열 formatting을 사용해 3자리 마다 ,를 찍어주세요"
   ]
  },
  {
   "cell_type": "code",
   "execution_count": 5,
   "metadata": {
    "id": "oXAC95vO4JJ6"
   },
   "outputs": [],
   "source": [
    "# 책 목록\n",
    "book_list = {'파이썬 프로그래밍':4000, '자바 프로그래밍':8000, '우리 우주와 은하':7000,\n",
    "             '아프지만 청춘일까':2000, '점프 투 파이썬':4700, '제주도로 떠나요':2300, '유럽 한달 살기':13000}"
   ]
  },
  {
   "cell_type": "markdown",
   "metadata": {
    "id": "8u82OhgFHhQl"
   },
   "source": [
    "출력 예시\n",
    "```\n",
    "개발 관련 도서의 총 합은 16,700원입니다.\n",
    "```"
   ]
  },
  {
   "cell_type": "code",
   "execution_count": 7,
   "metadata": {
    "id": "Z7uZrnDLplKi"
   },
   "outputs": [
    {
     "data": {
      "text/plain": [
       "16700"
      ]
     },
     "execution_count": 7,
     "metadata": {},
     "output_type": "execute_result"
    }
   ],
   "source": [
    "price=book_list['파이썬 프로그래밍']+book_list['자바 프로그래밍']+book_list['점프 투 파이썬']\n",
    "price"
   ]
  },
  {
   "cell_type": "code",
   "execution_count": 11,
   "metadata": {
    "id": "LRdfN8RnplKi"
   },
   "outputs": [
    {
     "ename": "SyntaxError",
     "evalue": "f-string: invalid syntax (1329359317.py, line 1)",
     "output_type": "error",
     "traceback": [
      "\u001b[0;36m  Input \u001b[0;32mIn [11]\u001b[0;36m\u001b[0m\n\u001b[0;31m    f'개발 관련 도서의 총 합은 {price;,}원입니다.'\u001b[0m\n\u001b[0m          ^\u001b[0m\n\u001b[0;31mSyntaxError\u001b[0m\u001b[0;31m:\u001b[0m f-string: invalid syntax\n"
     ]
    }
   ],
   "source": [
    "f'개발 관련 도서의 총 합은 {price;,}원입니다.'"
   ]
  },
  {
   "cell_type": "markdown",
   "metadata": {
    "id": "Tp6Mw974W9OE"
   },
   "source": [
    "## 6.  딕셔너리, 반복문\n",
    "\n",
    "학번의 앞 4자리는 입학한 년도이고, 중간 2자리는 입학한 학과별 고유 번호, 마지막 4자리는 개별 번호를 나타냅니다. 올해 ‘파이썬 프로그래밍’ 강의를 신청한 학생들의 학번을 보고, 기수 별 학생 수와 학과별 학생 수를 각각 딕셔너리로 구해봅시다. "
   ]
  },
  {
   "cell_type": "code",
   "execution_count": null,
   "metadata": {
    "id": "pugFjRxYXNRd"
   },
   "outputs": [],
   "source": [
    "# 학번\n",
    "student_id = \"\"\"2013105296\n",
    "2012124644\n",
    "2013123412\n",
    "2014107400\n",
    "2012110499\n",
    "2013100102\n",
    "2011139940\n",
    "2014131487\"\"\"\n",
    "# 학과\n",
    "major_id = {'10':'경영학과', '11':'사회학과', '12':'국문학과', '13':'물리학과'}"
   ]
  },
  {
   "cell_type": "markdown",
   "metadata": {
    "id": "Ywu8QK0MXyUc"
   },
   "source": [
    "출력 예시\n",
    "```\n",
    "count_id(student_id)\n",
    "\n",
    "기수별 학생 수: {'11': 1, '12': 2, '13': 3, '14': 2}\n",
    "학과별 학생 수: {'경영학과':3, '사회학과':1, '국문학과':2, '물리학과':2}\n",
    "```"
   ]
  },
  {
   "cell_type": "code",
   "execution_count": null,
   "metadata": {
    "id": "-ACx0RHxplKi"
   },
   "outputs": [],
   "source": []
  },
  {
   "cell_type": "code",
   "execution_count": null,
   "metadata": {
    "id": "ow_4CjY0plKi"
   },
   "outputs": [],
   "source": []
  },
  {
   "cell_type": "markdown",
   "metadata": {
    "id": "OpPRoPMrplKj"
   },
   "source": [
    "## 7. 리스트, 튜플\n",
    "\n",
    "리스트의 이름에 맞는 요소만 갖고 있을 수 있도록 리스트 메서드(함수)를 사용하여 요소를 더하거나, 빼보세요.\n",
    "\n",
    "```python\n",
    "# 출력 예시\n",
    ">>> print(numbers, korean, english)\n",
    "([1, 100, 47], ['당근', '배추', '백'], ['potato', 'onion', 'twenty-four'])\n",
    "```"
   ]
  },
  {
   "cell_type": "code",
   "execution_count": null,
   "metadata": {
    "id": "rvoWzNCSplKj"
   },
   "outputs": [],
   "source": [
    "numbers = [1, 100, '백', 'twenty-four']\n",
    "korean = ['당근', '배추', 'onion']\n",
    "english = [47, 'potato']\""
   ]
  },
  {
   "cell_type": "code",
   "execution_count": null,
   "metadata": {
    "id": "pT8Z43_yplKj"
   },
   "outputs": [],
   "source": []
  },
  {
   "cell_type": "code",
   "execution_count": null,
   "metadata": {
    "id": "EJg-Z-JHplKj"
   },
   "outputs": [],
   "source": []
  },
  {
   "cell_type": "markdown",
   "metadata": {
    "id": "7vDXyknCplKj"
   },
   "source": [
    "## 8. 집합 자료형 - dict, set\n",
    "\n",
    "채소와 해당 되는 가격이 각각 변수안에 리스트로 들어 있습니다. 각 채소에 해당되는 가격을 딕셔너리 형식으로 변환하여 {키:값} 형태로 관리하고자 합니다.  다음과 같은 딕셔너리 자료구조로 만들어 주세요.\n",
    "\n",
    " {'배추': 1000, '감자': 200, '양파': 320, '대파': 2000, '마늘': 325, '양배추': 1000}"
   ]
  },
  {
   "cell_type": "code",
   "execution_count": 12,
   "metadata": {
    "id": "izk11XyyplKj"
   },
   "outputs": [],
   "source": [
    "vegetable = [\"배추\", \"감자\", \"양파\", \"대파\", \"마늘\", \"양배추\"]\n",
    "price = [1000, 200, 320, 2000, 325, 1000, 2000]"
   ]
  },
  {
   "cell_type": "code",
   "execution_count": 13,
   "metadata": {
    "id": "v6VYWzuXplKj"
   },
   "outputs": [
    {
     "data": {
      "text/plain": [
       "{'배추': 1000, '감자': 200, '양파': 320, '대파': 2000, '마늘': 325, '양배추': 1000}"
      ]
     },
     "execution_count": 13,
     "metadata": {},
     "output_type": "execute_result"
    }
   ],
   "source": [
    "dict(zip(vegetable,price))"
   ]
  },
  {
   "cell_type": "code",
   "execution_count": null,
   "metadata": {
    "id": "QyFNP6btplKj"
   },
   "outputs": [],
   "source": []
  },
  {
   "cell_type": "markdown",
   "metadata": {
    "id": "q-2PGYJ0plKj"
   },
   "source": [
    "## 9. 집합 자료형 - dict, set\n",
    "\n",
    "다음과 같은 직업목록이 list 형태로 있습니다. 중복된 값을 포함하고 있는데 집합 자료형을 사용하여 중복을 제거하고 몇 종류의 직업이 있는지 세어주세요."
   ]
  },
  {
   "cell_type": "code",
   "execution_count": null,
   "metadata": {
    "id": "n5xbvB3jplKk"
   },
   "outputs": [],
   "source": [
    "job = ['공업기계 설치 및 정비원', '숙박시설 서비스원', '철근공', '화가 및 조각가', \n",
    "       '콘크리트공', '화가 및 조각가', '경비원', '냉/난방 관련 설비 조작원', \n",
    "       '선박 갑판승무원 및 관련 종사원', '세탁원 및 다림질원', '보험 설계사 및 간접투자증권 판매인', \n",
    "       '플라스틱제품 생산기 조작원', '화가 및 조각가', '단열공', '해외 영업원', '배우 및 모델', \n",
    "       '화가 및 조각가', '경비원', '곡식작물 재배원', '경찰관', '행사기획자', '경비원', '경찰관', \n",
    "       '직조기 및 편직기 조작원', '화가 및 조각가', '화가 및 조각가', '경비원', '화가 및 조각가', \n",
    "       '경찰관', '투자 및 신용 분석가', '경찰관', '화가 및 조각가', '악기제조 및 조율사', \n",
    "       '만화가 및 만화영화 작가', '경비원', '고객 상담 및 모니터 요원', '보건위생 및 환경 검사원', \n",
    "       '기타 사회복지관련 종사원', '기계공학 기술자 및 연구원']"
   ]
  },
  {
   "cell_type": "code",
   "execution_count": null,
   "metadata": {
    "id": "wIucCkFzplKk"
   },
   "outputs": [],
   "source": []
  },
  {
   "cell_type": "code",
   "execution_count": null,
   "metadata": {
    "id": "CTxXDnbCplKk"
   },
   "outputs": [],
   "source": []
  },
  {
   "cell_type": "markdown",
   "metadata": {
    "id": "wYLg4F63Iku4"
   },
   "source": [
    "## 10. 딕셔너리, 문자열, 반복문\n",
    "\n",
    "오늘 연필, 계란, 오징어를 구매했습니다. 세 품목을 우리나라 고유 단위를 이용해 얼마나 샀는지 알아보려고 합니다. 제공된 단위 딕셔너리 2개를 참조하여 변환해 보세요. "
   ]
  },
  {
   "cell_type": "code",
   "execution_count": null,
   "metadata": {
    "id": "9nWTH33XJfLw"
   },
   "outputs": [],
   "source": []
  },
  {
   "cell_type": "code",
   "execution_count": null,
   "metadata": {
    "id": "DB29qGU6G2cY"
   },
   "outputs": [],
   "source": [
    "unique_unit = {'연필':'다스', '계란': '판', '오징어':'축'}\n",
    "unit = {'다스': 12, '판': 30, '축':20}\n",
    "shopping = {'연필':40, '계란':62, '오징어':21}\n",
    "\n",
    "# 출력 예시\n",
    "연필은 3다스, 4개 구매했습니다.\n",
    "계란은 2판, 2개 구매했습니다.\n",
    "오징어은 1축, 1개 구매했습니다."
   ]
  },
  {
   "cell_type": "markdown",
   "metadata": {
    "id": "MCASSRV3IwSP"
   },
   "source": [
    "출력 예시\n",
    "```\n",
    "연필은 3다스, 4개 구매했습니다.\n",
    "계란은 2판, 2개 구매했습니다.\n",
    "오징어은 1축, 1개 구매했습니다.\n",
    "```"
   ]
  },
  {
   "cell_type": "markdown",
   "metadata": {
    "id": "-Bm8gRmyplKk"
   },
   "source": [
    "f'연필은 3{unique_unit[\"연필\"]},4개를 구매했습니다.'"
   ]
  },
  {
   "cell_type": "markdown",
   "metadata": {
    "id": "Q2e94ryOplKk"
   },
   "source": [
    "f'연필은 2{unique_unit[\"계란\"]},2개를 구매했습니다.'"
   ]
  },
  {
   "cell_type": "markdown",
   "metadata": {
    "id": "NB60IeUnplKk"
   },
   "source": [
    "f'오징어는 1{unique_unit[\"오징어\"]},1개를 구매했습니다.'"
   ]
  },
  {
   "cell_type": "code",
   "execution_count": null,
   "metadata": {
    "id": "X67MsM_bplKk"
   },
   "outputs": [],
   "source": []
  }
 ],
 "metadata": {
  "colab": {
   "provenance": []
  },
  "kernelspec": {
   "display_name": "Python 3 (ipykernel)",
   "language": "python",
   "name": "python3"
  },
  "language_info": {
   "codemirror_mode": {
    "name": "ipython",
    "version": 3
   },
   "file_extension": ".py",
   "mimetype": "text/x-python",
   "name": "python",
   "nbconvert_exporter": "python",
   "pygments_lexer": "ipython3",
   "version": "3.9.7"
  },
  "toc": {
   "base_numbering": 1,
   "nav_menu": {},
   "number_sections": true,
   "sideBar": true,
   "skip_h1_title": false,
   "title_cell": "Table of Contents",
   "title_sidebar": "Contents",
   "toc_cell": false,
   "toc_position": {},
   "toc_section_display": true,
   "toc_window_display": false
  },
  "varInspector": {
   "cols": {
    "lenName": 16,
    "lenType": 16,
    "lenVar": 40
   },
   "kernels_config": {
    "python": {
     "delete_cmd_postfix": "",
     "delete_cmd_prefix": "del ",
     "library": "var_list.py",
     "varRefreshCmd": "print(var_dic_list())"
    },
    "r": {
     "delete_cmd_postfix": ") ",
     "delete_cmd_prefix": "rm(",
     "library": "var_list.r",
     "varRefreshCmd": "cat(var_dic_list()) "
    }
   },
   "types_to_exclude": [
    "module",
    "function",
    "builtin_function_or_method",
    "instance",
    "_Feature"
   ],
   "window_display": false
  }
 },
 "nbformat": 4,
 "nbformat_minor": 4
}
